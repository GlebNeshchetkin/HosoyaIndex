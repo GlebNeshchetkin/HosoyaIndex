{
  "cells": [
    {
      "cell_type": "code",
      "execution_count": null,
      "metadata": {
        "id": "LWRotCgN2TXW"
      },
      "outputs": [],
      "source": [
        "import pandas as pd"
      ]
    },
    {
      "cell_type": "code",
      "execution_count": null,
      "metadata": {
        "id": "rpRtP6Vtl-FG"
      },
      "outputs": [],
      "source": [
        "def fib(n):\n",
        "  if n < 2:\n",
        "    return (n)\n",
        "  else:\n",
        "    return(fib(n-2)+fib(n-1))"
      ]
    },
    {
      "cell_type": "markdown",
      "source": [
        "##Four leaves"
      ],
      "metadata": {
        "id": "x8CiEpNfipIe"
      }
    },
    {
      "cell_type": "code",
      "source": [
        "def hosoya_index_4l(a, b, c, d, e):\n",
        "  hosoya = fib(b+1)*(fib(d+1)*fib(a+e+c+1) + fib(d)*fib(a+e)*fib(c+1))\n",
        "  hosoya = hosoya  + (fib(b)*fib(a+1)*(fib(e+d)*fib(c+1) + fib(c)*fib(e-1)*fib(d+1)))\n",
        "  return(hosoya)"
      ],
      "metadata": {
        "id": "PuWfN2qgitYq"
      },
      "execution_count": null,
      "outputs": []
    },
    {
      "cell_type": "code",
      "source": [
        "hosoya_index_4l(2, 2, 2, 2, 4)"
      ],
      "metadata": {
        "colab": {
          "base_uri": "https://localhost:8080/"
        },
        "id": "sKR-QVcLjTG0",
        "outputId": "a4e94ca6-5e5f-4260-ea99-e2a4f7e46773"
      },
      "execution_count": null,
      "outputs": [
        {
          "output_type": "execute_result",
          "data": {
            "text/plain": [
              "208"
            ]
          },
          "metadata": {},
          "execution_count": 10
        }
      ]
    },
    {
      "cell_type": "markdown",
      "source": [
        "##Five leaves"
      ],
      "metadata": {
        "id": "lAphpVl20eQA"
      }
    },
    {
      "cell_type": "markdown",
      "metadata": {
        "id": "9J65sB4FpPLs"
      },
      "source": [
        "##A type"
      ]
    },
    {
      "cell_type": "code",
      "execution_count": null,
      "metadata": {
        "id": "_t4b4pD6pPVm"
      },
      "outputs": [],
      "source": [
        "def hosoya_index_A(a, b, c, d, e):\n",
        "  hosoya = fib(e+1)*(fib(a+1)*( fib(b+1)*fib(d+c+4) + fib(b)*fib(c+1)*fib(d+1) ) +fib(a)*fib(b+1)*fib(c+1)*fib(d+1) )\n",
        "  hosoya = hosoya  + fib(e)*fib(a+1)*fib(b+1)*fib(c+1)*fib(d+1)\n",
        "  return(hosoya)"
      ]
    },
    {
      "cell_type": "markdown",
      "metadata": {
        "id": "he0Ljhj-nhBh"
      },
      "source": [
        "##B type"
      ]
    },
    {
      "cell_type": "code",
      "execution_count": null,
      "metadata": {
        "id": "0uTiPqPhm_mx"
      },
      "outputs": [],
      "source": [
        "def hosoya_index_B(a, b, c, d, e, f):\n",
        "  hosoya = fib(d+1)*(fib(a+1)*((fib(f+c+e+1)*fib(b+1))+(fib(c+1)*fib(f+e)*fib(b)))+(fib(a)*fib(b+1)*fib(c+1)*fib(f+e)))\n",
        "  hosoya = hosoya + ((fib(e+1)*fib(d))*(fib(a+1)*((fib(f+c)*fib(b+1))+(fib(c+1)*fib(f-1)*fib(b)))+(fib(f-1)*fib(c+1)*fib(b+1)*fib(a))))\n",
        "  return(hosoya)"
      ]
    },
    {
      "cell_type": "code",
      "source": [
        "hosoya_index_B(1, 0, 2, 2, 2, 4)"
      ],
      "metadata": {
        "colab": {
          "base_uri": "https://localhost:8080/"
        },
        "id": "fDCstRg1hZUy",
        "outputId": "18654116-50a6-4c50-aa8f-5493fd57b52d"
      },
      "execution_count": null,
      "outputs": [
        {
          "output_type": "execute_result",
          "data": {
            "text/plain": [
              "124"
            ]
          },
          "metadata": {},
          "execution_count": 5
        }
      ]
    },
    {
      "cell_type": "markdown",
      "metadata": {
        "id": "x2PFqjSGnszO"
      },
      "source": [
        "##C type"
      ]
    },
    {
      "cell_type": "code",
      "execution_count": null,
      "metadata": {
        "id": "7iTmMaFinsF6"
      },
      "outputs": [],
      "source": [
        "def hosoya_index_C(a, b, c, d, e, f, g):\n",
        "  hosoya = fib(e+1)*( (fib(a+f+g+c+1)*fib(b+1)) + (fib(a+1)*fib(g+c+f)*fib(b)) + (fib(a+f+g)*fib(b+1)) + (fib(a+1)*fib(f+g-1)*fib(b)) )\n",
        "  hosoya = hosoya  + ( fib(e)*(( (fib(a+f)*fib(b+1)) + (fib(a+1)*fib(f-1)*fib(b)) ) * (  (fib(g+c+1)*fib(d+1)) + (fib(g)*fib(c+1)*fib(d)) )) )\n",
        "  return(hosoya)"
      ]
    },
    {
      "cell_type": "code",
      "source": [
        "hosoya_index_C(1,5,,1,1,2,1)"
      ],
      "metadata": {
        "colab": {
          "base_uri": "https://localhost:8080/"
        },
        "id": "9zQ12fl5USL7",
        "outputId": "4e188706-4310-4420-d3fe-a97a2dad2b39"
      },
      "execution_count": null,
      "outputs": [
        {
          "output_type": "execute_result",
          "data": {
            "text/plain": [
              "37"
            ]
          },
          "metadata": {},
          "execution_count": 6
        }
      ]
    },
    {
      "cell_type": "code",
      "source": [
        "def hosoya_index_C_new(a, b, c, d, e, f, g):\n",
        "  a_ = fib(a+1)*((fib(b+f+g+d+1)*fib(e+1))+(fib(f+b)*fib(e)*fib(g+d+1))) + (fib(b+1)*fib(a))*((fib(f+g+d)*fib(e+1))+(fib(e)*fib(f-1)*fib(g+d+1)))\n",
        "  #print(\"a_->\" + str(a_))\n",
        "  d_ = fib(a+1)*((fib(b+f+g)*fib(e+1))+(fib(b+f)*fib(e)*fib(g)))+(fib(a)*fib(b+1))*((fib(f+g-1)*fib(e+1))+(fib(e)*fib(f-1)*fib(g)))\n",
        "  #print(\"d_->\"+str(d_))\n",
        "  hosoya = (fib(c+1)*a_) + (d_*fib(d+1)*fib(c))\n",
        "  return(hosoya)"
      ],
      "metadata": {
        "id": "Oi6Z7vLmUcKU"
      },
      "execution_count": null,
      "outputs": []
    },
    {
      "cell_type": "code",
      "source": [
        "hosoya_index_C_new(5,1,3,4,7,6,7)"
      ],
      "metadata": {
        "colab": {
          "base_uri": "https://localhost:8080/"
        },
        "id": "ttIInGWcUe7n",
        "outputId": "0b46c487-339d-46fa-993b-111e7b570a1e"
      },
      "execution_count": null,
      "outputs": [
        {
          "output_type": "execute_result",
          "data": {
            "text/plain": [
              "4337313"
            ]
          },
          "metadata": {},
          "execution_count": 23
        }
      ]
    },
    {
      "cell_type": "markdown",
      "metadata": {
        "id": "zjtmqMUsqlzj"
      },
      "source": [
        "##-A-"
      ]
    },
    {
      "cell_type": "code",
      "execution_count": null,
      "metadata": {
        "id": "MGIgeLMwqyfs"
      },
      "outputs": [],
      "source": [
        "n = 31\n",
        "res_A = []"
      ]
    },
    {
      "cell_type": "code",
      "execution_count": null,
      "metadata": {
        "id": "zpfzwURRqmCw",
        "colab": {
          "base_uri": "https://localhost:8080/",
          "height": 200
        },
        "outputId": "4c6ad953-135d-40d7-91ff-ad37d3222b7d"
      },
      "outputs": [
        {
          "output_type": "error",
          "ename": "NameError",
          "evalue": "ignored",
          "traceback": [
            "\u001b[0;31m---------------------------------------------------------------------------\u001b[0m",
            "\u001b[0;31mNameError\u001b[0m                                 Traceback (most recent call last)",
            "\u001b[0;32m<ipython-input-3-9e0b6fdeb045>\u001b[0m in \u001b[0;36m<module>\u001b[0;34m\u001b[0m\n\u001b[1;32m      7\u001b[0m           \u001b[0;32mfor\u001b[0m \u001b[0me\u001b[0m \u001b[0;32min\u001b[0m \u001b[0mrange\u001b[0m\u001b[0;34m(\u001b[0m\u001b[0;36m1\u001b[0m\u001b[0;34m,\u001b[0m \u001b[0mn\u001b[0m\u001b[0;34m)\u001b[0m\u001b[0;34m:\u001b[0m\u001b[0;34m\u001b[0m\u001b[0;34m\u001b[0m\u001b[0m\n\u001b[1;32m      8\u001b[0m               \u001b[0;32mif\u001b[0m \u001b[0;34m(\u001b[0m\u001b[0;34m(\u001b[0m\u001b[0ma\u001b[0m \u001b[0;34m+\u001b[0m \u001b[0mb\u001b[0m \u001b[0;34m+\u001b[0m \u001b[0mc\u001b[0m \u001b[0;34m+\u001b[0m \u001b[0md\u001b[0m \u001b[0;34m+\u001b[0m \u001b[0me\u001b[0m\u001b[0;34m)\u001b[0m \u001b[0;34m==\u001b[0m \u001b[0mvertex_num\u001b[0m\u001b[0;34m)\u001b[0m\u001b[0;34m:\u001b[0m\u001b[0;34m\u001b[0m\u001b[0;34m\u001b[0m\u001b[0m\n\u001b[0;32m----> 9\u001b[0;31m                 \u001b[0mres_A\u001b[0m\u001b[0;34m[\u001b[0m\u001b[0mvertex_num\u001b[0m\u001b[0;34m-\u001b[0m\u001b[0;36m8\u001b[0m\u001b[0;34m]\u001b[0m\u001b[0;34m.\u001b[0m\u001b[0mappend\u001b[0m\u001b[0;34m(\u001b[0m\u001b[0;34m(\u001b[0m\u001b[0mvertex_num\u001b[0m\u001b[0;34m,\u001b[0m \u001b[0mhosoya_index_A\u001b[0m\u001b[0;34m(\u001b[0m\u001b[0ma\u001b[0m\u001b[0;34m,\u001b[0m\u001b[0mb\u001b[0m\u001b[0;34m,\u001b[0m\u001b[0mc\u001b[0m\u001b[0;34m,\u001b[0m\u001b[0md\u001b[0m\u001b[0;34m,\u001b[0m\u001b[0me\u001b[0m\u001b[0;34m)\u001b[0m\u001b[0;34m,\u001b[0m \u001b[0ma\u001b[0m\u001b[0;34m,\u001b[0m \u001b[0mb\u001b[0m\u001b[0;34m,\u001b[0m \u001b[0mc\u001b[0m\u001b[0;34m,\u001b[0m \u001b[0md\u001b[0m\u001b[0;34m,\u001b[0m \u001b[0me\u001b[0m\u001b[0;34m)\u001b[0m\u001b[0;34m)\u001b[0m\u001b[0;34m\u001b[0m\u001b[0;34m\u001b[0m\u001b[0m\n\u001b[0m",
            "\u001b[0;31mNameError\u001b[0m: name 'hosoya_index_A' is not defined"
          ]
        }
      ],
      "source": [
        "for vertex_num in range(8, n):\n",
        "  res_A.append([])\n",
        "  for a in range(1, n):\n",
        "    for b in range(1, n):\n",
        "      for c in range(1, n):\n",
        "        for d in range(1, n):\n",
        "          for e in range(1, n):\n",
        "              if ((a + b + c + d + e) == vertex_num):\n",
        "                res_A[vertex_num-8].append((vertex_num, hosoya_index_A(a,b,c,d,e), a, b, c, d, e))"
      ]
    },
    {
      "cell_type": "code",
      "execution_count": null,
      "metadata": {
        "id": "zAK5G55D1B9u"
      },
      "outputs": [],
      "source": [
        "for i in range(len(res_A)):\n",
        "  res_A[i] = sorted(res_A[i], key=lambda x: x[1], reverse=True)"
      ]
    },
    {
      "cell_type": "code",
      "execution_count": null,
      "metadata": {
        "id": "4QxNKpoF2WF_"
      },
      "outputs": [],
      "source": [
        "df = pd.DataFrame(res_A[0], columns=['n', 'Hosoya index', 'a', 'b', 'c', 'd', 'e'])\n",
        "for i in range(2,len(res_A)):\n",
        "  df = df.append(pd.DataFrame(res_A[i], columns=['n', 'Hosoya index', 'a', 'b', 'c', 'd', 'e']))"
      ]
    },
    {
      "cell_type": "code",
      "execution_count": null,
      "metadata": {
        "id": "4p1uv6f54sgt"
      },
      "outputs": [],
      "source": [
        "file_name = 'A_type.xlsx'\n",
        "df.to_excel(file_name)"
      ]
    },
    {
      "cell_type": "code",
      "execution_count": null,
      "metadata": {
        "id": "OvUt8MwJ5Q6S"
      },
      "outputs": [],
      "source": []
    },
    {
      "cell_type": "markdown",
      "metadata": {
        "id": "f_S46s7A6PBn"
      },
      "source": [
        "##-B-"
      ]
    },
    {
      "cell_type": "code",
      "execution_count": null,
      "metadata": {
        "id": "QZ7GgidU6QaA"
      },
      "outputs": [],
      "source": [
        "n = 31\n",
        "res_B = []"
      ]
    },
    {
      "cell_type": "code",
      "execution_count": null,
      "metadata": {
        "id": "WfFWwqfv7G8_",
        "colab": {
          "base_uri": "https://localhost:8080/"
        },
        "outputId": "29772b8b-eb3c-4e88-b10e-ab36cb744d75"
      },
      "outputs": [
        {
          "output_type": "stream",
          "name": "stdout",
          "text": [
            "8\n",
            "9\n",
            "10\n",
            "11\n",
            "12\n",
            "13\n",
            "14\n",
            "15\n",
            "16\n",
            "17\n",
            "18\n",
            "19\n",
            "20\n",
            "21\n",
            "22\n",
            "23\n",
            "24\n",
            "25\n",
            "26\n",
            "27\n",
            "28\n",
            "29\n",
            "30\n"
          ]
        }
      ],
      "source": [
        "for vertex_num in range(8, n):\n",
        "  print(vertex_num)\n",
        "  res_B.append([])\n",
        "  for a in range(1, n):\n",
        "    #for b in range(1, n):\n",
        "      for c in range(1, n):\n",
        "        for d in range(1, n):\n",
        "          for e in range(1, n):\n",
        "            for f in range(2, n):\n",
        "              if ((a + 0 + c + d + e + f) == vertex_num):\n",
        "                res_B[vertex_num-8].append((vertex_num, hosoya_index_B(a,0,c,d,e,f), a, 0, c, d, e, f))"
      ]
    },
    {
      "cell_type": "code",
      "execution_count": null,
      "metadata": {
        "id": "e0oJ7PYE738M"
      },
      "outputs": [],
      "source": [
        "for i in range(len(res_B)):\n",
        "  res_B[i] = sorted(res_B[i], key=lambda x: x[1], reverse=True)"
      ]
    },
    {
      "cell_type": "code",
      "execution_count": null,
      "metadata": {
        "id": "hkTmpIh879Yq"
      },
      "outputs": [],
      "source": [
        "df_B = pd.DataFrame(res_B[0], columns=['n', 'Hosoya index', 'a', 'b', 'c', 'd', 'e', 'f'])\n",
        "for i in range(2,len(res_B)):\n",
        "  df_B = df_B.append(pd.DataFrame(res_B[i], columns=['n', 'Hosoya index', 'a', 'b', 'c', 'd', 'e', 'f']))"
      ]
    },
    {
      "cell_type": "code",
      "execution_count": null,
      "metadata": {
        "id": "g0xChsD48FQ9"
      },
      "outputs": [],
      "source": [
        "file_name = 'B_type.xlsx'\n",
        "df_B.to_excel(file_name)"
      ]
    },
    {
      "cell_type": "code",
      "execution_count": null,
      "metadata": {
        "id": "eUoIhWQi8f2V",
        "colab": {
          "base_uri": "https://localhost:8080/",
          "height": 17
        },
        "outputId": "80e396ab-eec8-4475-86e0-fe3d9f0f8b33"
      },
      "outputs": [
        {
          "output_type": "display_data",
          "data": {
            "text/plain": [
              "<IPython.core.display.Javascript object>"
            ],
            "application/javascript": [
              "\n",
              "    async function download(id, filename, size) {\n",
              "      if (!google.colab.kernel.accessAllowed) {\n",
              "        return;\n",
              "      }\n",
              "      const div = document.createElement('div');\n",
              "      const label = document.createElement('label');\n",
              "      label.textContent = `Downloading \"${filename}\": `;\n",
              "      div.appendChild(label);\n",
              "      const progress = document.createElement('progress');\n",
              "      progress.max = size;\n",
              "      div.appendChild(progress);\n",
              "      document.body.appendChild(div);\n",
              "\n",
              "      const buffers = [];\n",
              "      let downloaded = 0;\n",
              "\n",
              "      const channel = await google.colab.kernel.comms.open(id);\n",
              "      // Send a message to notify the kernel that we're ready.\n",
              "      channel.send({})\n",
              "\n",
              "      for await (const message of channel.messages) {\n",
              "        // Send a message to notify the kernel that we're ready.\n",
              "        channel.send({})\n",
              "        if (message.buffers) {\n",
              "          for (const buffer of message.buffers) {\n",
              "            buffers.push(buffer);\n",
              "            downloaded += buffer.byteLength;\n",
              "            progress.value = downloaded;\n",
              "          }\n",
              "        }\n",
              "      }\n",
              "      const blob = new Blob(buffers, {type: 'application/binary'});\n",
              "      const a = document.createElement('a');\n",
              "      a.href = window.URL.createObjectURL(blob);\n",
              "      a.download = filename;\n",
              "      div.appendChild(a);\n",
              "      a.click();\n",
              "      div.remove();\n",
              "    }\n",
              "  "
            ]
          },
          "metadata": {}
        },
        {
          "output_type": "display_data",
          "data": {
            "text/plain": [
              "<IPython.core.display.Javascript object>"
            ],
            "application/javascript": [
              "download(\"download_575b5fdd-a2d7-41c0-bbee-18dfec6b67b3\", \"B_type.xlsx\", 16557904)"
            ]
          },
          "metadata": {}
        }
      ],
      "source": [
        "from google.colab import files\n",
        "import pandas as pd\n",
        "files.download('B_type.xlsx')"
      ]
    },
    {
      "cell_type": "markdown",
      "metadata": {
        "id": "RCbifOKqMxoQ"
      },
      "source": [
        "##-C-"
      ]
    },
    {
      "cell_type": "code",
      "execution_count": null,
      "metadata": {
        "id": "VL9PLQWUMy4E"
      },
      "outputs": [],
      "source": [
        "n = 21\n",
        "res_C = []"
      ]
    },
    {
      "cell_type": "code",
      "execution_count": null,
      "metadata": {
        "id": "5FESqcbJM0wL"
      },
      "outputs": [],
      "source": [
        "sets = [[] for i in range(23)]\n",
        "for a in range(1, n):\n",
        "  print(\"a->\" + str(a))\n",
        "  for b in range(1, n):\n",
        "    print(\"b->\" + str(b))\n",
        "    for c in range(1, n):\n",
        "      print(\"c->\" + str(c))\n",
        "      for d in range(1, n):\n",
        "        for e in range(1, n):\n",
        "          for g in range(2, n):\n",
        "            for f in range(2, n):\n",
        "              if ((a + b + c + d + e + f + g) == 8):\n",
        "                sets[0].append([a,b,c,d,e,f,g])\n",
        "              if ((a + b + c + d + e + f + g) == 9):\n",
        "                sets[1].append([a,b,c,d,e,f,g])\n",
        "              if ((a + b + c + d + e + f + g) == 10):\n",
        "                sets[2].append([a,b,c,d,e,f,g])\n",
        "              if ((a + b + c + d + e + f + g) == 11):\n",
        "                sets[3].append([a,b,c,d,e,f,g])\n",
        "              if ((a + b + c + d + e + f + g) == 12):\n",
        "                sets[4].append([a,b,c,d,e,f,g])\n",
        "              if ((a + b + c + d + e + f + g) == 13):\n",
        "                sets[5].append([a,b,c,d,e,f,g])\n",
        "              if ((a + b + c + d + e + f + g) == 14):\n",
        "                sets[6].append([a,b,c,d,e,f,g])\n",
        "              if ((a + b + c + d + e + f + g) == 15):\n",
        "                sets[7].append([a,b,c,d,e,f,g])\n",
        "              if ((a + b + c + d + e + f + g) == 16):\n",
        "                sets[8].append([a,b,c,d,e,f,g])\n",
        "              if ((a + b + c + d + e + f + g) == 17):\n",
        "                sets[9].append([a,b,c,d,e,f,g])\n",
        "              if ((a + b + c + d + e + f + g) == 18):\n",
        "                sets[10].append([a,b,c,d,e,f,g])\n",
        "              if ((a + b + c + d + e + f + g) == 19):\n",
        "                sets[11].append([a,b,c,d,e,f,g])\n",
        "              if ((a + b + c + d + e + f + g) == 20):\n",
        "                sets[12].append([a,b,c,d,e,f,g])\n",
        "              if ((a + b + c + d + e + f + g) == 21):\n",
        "                sets[13].append([a,b,c,d,e,f,g])\n",
        "              if ((a + b + c + d + e + f + g) == 22):\n",
        "                sets[14].append([a,b,c,d,e,f,g])\n",
        "              if ((a + b + c + d + e + f + g) == 23):\n",
        "                sets[15].append([a,b,c,d,e,f,g])\n",
        "              if ((a + b + c + d + e + f + g) == 24):\n",
        "                sets[16].append([a,b,c,d,e,f,g])\n",
        "              if ((a + b + c + d + e + f + g) == 25):\n",
        "                sets[17].append([a,b,c,d,e,f,g])\n",
        "              if ((a + b + c + d + e + f + g) == 26):\n",
        "                sets[18].append([a,b,c,d,e,f,g])\n",
        "              if ((a + b + c + d + e + f + g) == 27):\n",
        "                sets[19].append([a,b,c,d,e,f,g])\n",
        "              if ((a + b + c + d + e + f + g) == 28):\n",
        "                sets[20].append([a,b,c,d,e,f,g])\n",
        "              if ((a + b + c + d + e + f + g) == 29):\n",
        "                sets[21].append([a,b,c,d,e,f,g])\n",
        "              if ((a + b + c + d + e + f + g) == 30):\n",
        "                sets[22].append([a,b,c,d,e,f,g])\n",
        "          \n",
        "          #        print(vertex_num)\n",
        "          #        res_C[vertex_num-8].append((vertex_num, hosoya_index_C(a,b,c,d,e,f,g), a, b, c, d, e, f, g))"
      ]
    },
    {
      "cell_type": "code",
      "execution_count": null,
      "metadata": {
        "colab": {
          "base_uri": "https://localhost:8080/"
        },
        "id": "eCXxX8MPkMtr",
        "outputId": "e8c9ec2d-3711-4a97-ea49-e32d9fbf4340"
      },
      "outputs": [
        {
          "data": {
            "text/plain": [
              "1"
            ]
          },
          "execution_count": 28,
          "metadata": {},
          "output_type": "execute_result"
        }
      ],
      "source": [
        "sets[22][1][0]"
      ]
    },
    {
      "cell_type": "code",
      "execution_count": null,
      "metadata": {
        "id": "gDSO6lx1I2Jk"
      },
      "outputs": [],
      "source": [
        "res_C=[]"
      ]
    },
    {
      "cell_type": "code",
      "execution_count": null,
      "metadata": {
        "colab": {
          "background_save": true,
          "base_uri": "https://localhost:8080/"
        },
        "id": "cxpDnHrVkR3k",
        "outputId": "cbed2e74-bdbb-4297-b201-4d74c49dbc9e"
      },
      "outputs": [
        {
          "name": "stdout",
          "output_type": "stream",
          "text": [
            "0\n",
            "1\n",
            "2\n",
            "3\n",
            "4\n",
            "5\n",
            "6\n",
            "7\n",
            "8\n",
            "9\n",
            "10\n",
            "11\n",
            "12\n",
            "13\n",
            "14\n",
            "15\n",
            "16\n",
            "17\n",
            "18\n",
            "19\n",
            "20\n",
            "21\n",
            "22\n"
          ]
        }
      ],
      "source": [
        "for i in range(len(sets)):\n",
        "  print(i)\n",
        "  res_C.append([])\n",
        "  for j in range(len(sets[i])):\n",
        "    res_C[i].append((i+8, hosoya_index_C(sets[i][j][0],sets[i][j][1],sets[i][j][2],sets[i][j][3],sets[i][j][4],sets[i][j][5],sets[i][j][6]), sets[i][j][0], sets[i][j][1], sets[i][j][2], sets[i][j][3], sets[i][j][4], sets[i][j][5], sets[i][j][6]))"
      ]
    },
    {
      "cell_type": "code",
      "execution_count": null,
      "metadata": {
        "id": "IAp5-DiHPXgb"
      },
      "outputs": [],
      "source": [
        "res_C"
      ]
    },
    {
      "cell_type": "code",
      "execution_count": null,
      "metadata": {
        "id": "ctF-F7g0M4ld"
      },
      "outputs": [],
      "source": [
        "for i in range(len(res_C)):\n",
        "  res_C[i] = sorted(res_C[i], key=lambda x: x[1], reverse=True)"
      ]
    },
    {
      "cell_type": "code",
      "execution_count": null,
      "metadata": {
        "id": "WQ_IifY9kMBM"
      },
      "outputs": [],
      "source": []
    },
    {
      "cell_type": "code",
      "execution_count": null,
      "metadata": {
        "id": "xtk_5TlkM5XK"
      },
      "outputs": [],
      "source": [
        "df_C = pd.DataFrame(res_C[0], columns=['n', 'Hosoya index', 'a', 'b', 'c', 'd', 'e', 'f', 'g'])\n",
        "for i in range(2,len(res_C)):\n",
        "  df_C = df_C.append(pd.DataFrame(res_C[i], columns=['n', 'Hosoya index', 'a', 'b', 'c', 'd', 'e', 'f', 'g']))"
      ]
    },
    {
      "cell_type": "code",
      "execution_count": null,
      "metadata": {
        "id": "d9qXPnFFM7ND"
      },
      "outputs": [],
      "source": [
        "file_name = 'C_type_25.xlsx'\n",
        "df_C.to_excel(file_name)"
      ]
    },
    {
      "cell_type": "code",
      "execution_count": null,
      "metadata": {
        "id": "M-zkEOVEM8xU"
      },
      "outputs": [],
      "source": [
        "from google.colab import files\n",
        "import pandas as pd\n",
        "files.download('C_type_25.xlsx')"
      ]
    },
    {
      "cell_type": "code",
      "execution_count": null,
      "metadata": {
        "id": "nG_f_VTPolf5",
        "colab": {
          "base_uri": "https://localhost:8080/"
        },
        "outputId": "0bd7382f-72f4-4be9-900d-e93950c4b75d"
      },
      "outputs": [
        {
          "output_type": "stream",
          "name": "stdout",
          "text": [
            "2\n"
          ]
        }
      ],
      "source": [
        "for a in range(2, 8-6+1):\n",
        "  print(a)"
      ]
    },
    {
      "cell_type": "code",
      "source": [],
      "metadata": {
        "id": "KrRjbOieahWJ"
      },
      "execution_count": null,
      "outputs": []
    },
    {
      "cell_type": "code",
      "source": [],
      "metadata": {
        "id": "4V0GxRhR0RvF"
      },
      "execution_count": null,
      "outputs": []
    },
    {
      "cell_type": "code",
      "source": [
        "import pandas as pd\n",
        "import warnings\n",
        "warnings.simplefilter(action='ignore', category=FutureWarning)\n",
        "def fib(n):\n",
        "  if n < 2:\n",
        "    return (n)\n",
        "  else:\n",
        "    return(fib(n-2)+fib(n-1))\n",
        "def hosoya_index_4l(a, b, c, d, e):\n",
        "  hosoya = fib(b+1)*(fib(d+1)*fib(a+e+c+1) + fib(d)*fib(a+e)*fib(c+1))\n",
        "  hosoya = hosoya  + (fib(b)*fib(a+1)*(fib(e+d)*fib(c+1) + fib(c)*fib(e-1)*fib(d+1)))\n",
        "  return(hosoya)\n",
        "def hosoya_index_C(a, b, c, d, e, f, g):\n",
        "  a_ = fib(a+1)*((fib(b+f+g+d+1)*fib(e+1))+(fib(f+b)*fib(e)*fib(g+d+1))) + (fib(b+1)*fib(a))*((fib(f+g+d)*fib(e+1))+(fib(e)*fib(f-1)*fib(g+d+1)))\n",
        "  #print(\"a_->\" + str(a_))\n",
        "  d_ = fib(a+1)*((fib(b+f+g)*fib(e+1))+(fib(b+f)*fib(e)*fib(g)))+(fib(a)*fib(b+1))*((fib(f+g-1)*fib(e+1))+(fib(e)*fib(f-1)*fib(g)))\n",
        "  #print(\"d_->\"+str(d_))\n",
        "  hosoya = (fib(c+1)*a_) + (d_*fib(d+1)*fib(c))\n",
        "  return(hosoya)\n",
        "def hosoya_index_B(a, b, c, d, e, f):\n",
        "  hosoya = fib(d+1)*(fib(a+1)*((fib(f+c+e+1)*fib(b+1))+(fib(c+1)*fib(f+e)*fib(b)))+(fib(a)*fib(b+1)*fib(c+1)*fib(f+e)))\n",
        "  hosoya = hosoya + ((fib(e+1)*fib(d))*(fib(a+1)*((fib(f+c)*fib(b+1))+(fib(c+1)*fib(f-1)*fib(b)))+(fib(f-1)*fib(c+1)*fib(b+1)*fib(a))))\n",
        "  return(hosoya)\n",
        "def hosoya_index_D1(a, b, c, d, e, f, g, h):\n",
        "  hosoya = fib(h+1)*hosoya_index_C(a,b,c,d,e,f,g)\n",
        "  hosoya = hosoya + (fib(h)*fib(e)*hosoya_index_4l(a,b,c,d,f+g))\n",
        "  return(hosoya)\n",
        "def hosoya_index_D2(a, b, c, d, e, f, g, h, k):\n",
        "  if h>=2:\n",
        "    hosoya = fib(e+k+2)*hosoya_index_C(b,a,h-1,d,c,f+1,g-1)\n",
        "    hosoya = hosoya + (fib(e+1)*fib(k+1)*hosoya_index_C(b,a,h-2,d,c,f+1,g-1))\n",
        "    return(hosoya)\n",
        "  if h==1:\n",
        "    hosoya = fib(e + k + 2) * hosoya_index_4l(b, a, g+d-1, c, f+1)\n",
        "    hosoya = hosoya + (fib(e + 1) * fib(k + 1) * fib(d+1) * hosoya_index_4l(b, a, g-2, c, f+1))\n",
        "    return (hosoya)\n",
        "n = 25\n",
        "#res_C = []\n",
        "#for vertex_num in range(8, n):\n",
        "#  print(vertex_num)\n",
        "#  res_C.append([])\n",
        "#  for a in range(1, vertex_num-7+1):\n",
        "#    print(\"a->\"+str(a))\n",
        "#    for b in range(1, vertex_num-7+1):\n",
        "#      for c in range(1, vertex_num-7+1):\n",
        "#        for d in range(1, vertex_num-7+1):\n",
        "#          for e in range(1, vertex_num-7+1):\n",
        "#            for g in range(1, vertex_num-7+1):\n",
        "#              for f in range(2, vertex_num-6+1):\n",
        "#                 #print(\"f->\" + str(f))\n",
        "#                 if ((a + b + c + d + e + f + g) == vertex_num):\n",
        "#                   #print(\"--->>>\")\n",
        "#                   res_C[vertex_num-8].append((vertex_num, hosoya_index_C(a,b,c,d,e,f,g), a, b, c, d, e, f, g))\n",
        "#for i in range(len(res_C)):\n",
        "#  res_C[i] = sorted(res_C[i], key=lambda x: x[1], reverse=True)\n",
        "#df_B = pd.DataFrame(res_C[0], columns=['n', 'Hosoya index', 'a', 'b', 'c', 'd', 'e', 'f', 'g'])\n",
        "#for i in range(1,20):\n",
        "#  df_B = df_B.append(pd.DataFrame(res_C[i], columns=['n', 'Hosoya index', 'a', 'b', 'c', 'd', 'e', 'f', 'g']))\n",
        "#file_name = 'C_type(2).xlsx'\n",
        "#df_B.to_excel(file_name)\n",
        "#df_B = pd.DataFrame(res_C[20], columns=['n', 'Hosoya index', 'a', 'b', 'c', 'd', 'e', 'f', 'g'])\n",
        "#for i in range(21,len(res_C)):\n",
        "#  df_B = df_B.append(pd.DataFrame(res_C[i], columns=['n', 'Hosoya index', 'a', 'b', 'c', 'd', 'e', 'f', 'g']))\n",
        "#file_name = 'C_type(2)_part2.xlsx'\n",
        "#df_B.to_excel(file_name)\n",
        "\n",
        "\n",
        "\n",
        "#res_D1 = []\n",
        "#for vertex_num in range(9, n):\n",
        "#  print(vertex_num)\n",
        "#  res_D1.append([])\n",
        "#  for a in range(1, vertex_num-8+1):\n",
        "#    print(\"a->\"+str(a))\n",
        "#    for b in range(1, vertex_num-8+1):\n",
        "#      for c in range(1, vertex_num-8+1):\n",
        "#        for d in range(1, vertex_num-8+1):\n",
        "#          for e in range(1, vertex_num-8+1):\n",
        "#            for h in range(1, vertex_num-8+1):\n",
        "#              for g in range(1, vertex_num-8+1):\n",
        "#                for f in range(2, vertex_num-7+1):\n",
        "#                  #print(\"f->\" + str(f))\n",
        "#                   if ((a + b + c + d + e + f + g + h) == vertex_num):\n",
        "#                    #print(\"--->>>\")\n",
        "#                    res_D1[vertex_num-9].append((vertex_num, hosoya_index_D1(a,b,c,d,e,f,g,h), a, b, c, d, e, f, g, h))\n",
        "#for i in range(len(res_D1)):\n",
        "#  res_D1[i] = sorted(res_D1[i], key=lambda x: x[1], reverse=True)\n",
        "#df_B = pd.DataFrame(res_D1[0], columns=['n', 'Hosoya index', 'a', 'b', 'c', 'd', 'e', 'f', 'g', 'h'])\n",
        "#for i in range(1,10):\n",
        "#  df_B = df_B.append(pd.DataFrame(res_D1[i], columns=['n', 'Hosoya index', 'a', 'b', 'c', 'd', 'e', 'f', 'g', 'h']))\n",
        "#file_name = 'D1_type.xlsx'\n",
        "#df_B.to_excel(file_name)\n",
        "#df_B = pd.DataFrame(res_D1[10], columns=['n', 'Hosoya index', 'a', 'b', 'c', 'd', 'e', 'f', 'g', 'h'])\n",
        "#for i in range(10,15):\n",
        "#  df_B = df_B.append(pd.DataFrame(res_D1[i], columns=['n', 'Hosoya index', 'a', 'b', 'c', 'd', 'e', 'f', 'g', 'h']))\n",
        "#file_name = 'D1_type_part2.xlsx'\n",
        "#df_B.to_excel(file_name)\n",
        "#df_B = pd.DataFrame(res_D1[15], columns=['n', 'Hosoya index', 'a', 'b', 'c', 'd', 'e', 'f', 'g', 'h'])\n",
        "#for i in range(15,len(res_D1)):\n",
        "#  df_B = df_B.append(pd.DataFrame(res_D1[i], columns=['n', 'Hosoya index', 'a', 'b', 'c', 'd', 'e', 'f', 'g','h']))\n",
        "#file_name = 'D1_type_part3.xlsx'\n",
        "#df_B.to_excel(file_name)\n",
        "#df_B = pd.DataFrame(res_D1[20], columns=['n', 'Hosoya index', 'a', 'b', 'c', 'd', 'e', 'f', 'g', 'h'])\n",
        "#for i in range(20,len(res_D1)):\n",
        "#  df_B = df_B.append(pd.DataFrame(res_D1[i], columns=['n', 'Hosoya index', 'a', 'b', 'c', 'd', 'e', 'f', 'g','h']))\n",
        "#file_name = 'D1_type_part4.xlsx'\n",
        "#df_B.to_excel(file_name)\n",
        "\n",
        "\n",
        "\n",
        "res_D2 = []\n",
        "for vertex_num in range(10, n):\n",
        "  print(vertex_num)\n",
        "  res_D2.append([])\n",
        "  for a in range(1, vertex_num-9+1):\n",
        "    print(\"a->\"+str(a))\n",
        "    for b in range(1, vertex_num-9+1):\n",
        "      for c in range(1, vertex_num-9+1):\n",
        "        for d in range(1, vertex_num-9+1):\n",
        "          for e in range(1, vertex_num-9+1):\n",
        "            for k in range(1, vertex_num-9+1):\n",
        "              for f in range(1, vertex_num-9+1):\n",
        "                for h in range(1, vertex_num-8+1):\n",
        "                  for g in range(2, vertex_num-8+1):\n",
        "                  #print(\"f->\" + str(f))\n",
        "                     if ((a + b + c + d + e + f + g + h + k) == vertex_num):\n",
        "                      #print(\"--->>>\")\n",
        "                      res_D2[vertex_num-10].append((vertex_num, hosoya_index_D2(a,b,c,d,e,f,g,h,k), a, b, c, d, e, f, g, h, k))\n",
        "for i in range(len(res_D2)):\n",
        "  res_D2[i] = sorted(res_D2[i], key=lambda x: x[1], reverse=True)\n",
        "df_B = pd.DataFrame(res_D2[0], columns=['n', 'Hosoya index', 'a', 'b', 'c', 'd', 'e', 'f', 'g', 'h', 'k'])\n",
        "for i in range(1,10):\n",
        "  df_B = df_B.append(pd.DataFrame(res_D2[i], columns=['n', 'Hosoya index', 'a', 'b', 'c', 'd', 'e', 'f', 'g', 'h', 'k']))\n",
        "file_name = 'D2_type.xlsx'\n",
        "df_B.to_excel(file_name)\n",
        "df_B = pd.DataFrame(res_D2[10], columns=['n', 'Hosoya index', 'a', 'b', 'c', 'd', 'e', 'f', 'g', 'h', 'k'])\n",
        "for i in range(10,15):\n",
        "  df_B = df_B.append(pd.DataFrame(res_D2[i], columns=['n', 'Hosoya index', 'a', 'b', 'c', 'd', 'e', 'f', 'g', 'h', 'k']))\n",
        "file_name = 'D2_type_part2.xlsx'\n",
        "df_B.to_excel(file_name)\n",
        "df_B = pd.DataFrame(res_D2[15], columns=['n', 'Hosoya index', 'a', 'b', 'c', 'd', 'e', 'f', 'g', 'h', 'k'])\n",
        "for i in range(15,20):\n",
        "  df_B = df_B.append(pd.DataFrame(res_D2[i], columns=['n', 'Hosoya index', 'a', 'b', 'c', 'd', 'e', 'f', 'g', 'h', 'k']))\n",
        "file_name = 'D2_type_part3.xlsx'\n",
        "df_B.to_excel(file_name)\n",
        "df_B = pd.DataFrame(res_D2[20], columns=['n', 'Hosoya index', 'a', 'b', 'c', 'd', 'e', 'f', 'g', 'h', 'k'])\n",
        "for i in range(20,len(res_D2)):\n",
        "  df_B = df_B.append(pd.DataFrame(res_D2[i], columns=['n', 'Hosoya index', 'a', 'b', 'c', 'd', 'e', 'f', 'g', 'h', 'k']))\n",
        "file_name = 'D2_type_part4.xlsx'\n",
        "df_B.to_excel(file_name)"
      ],
      "metadata": {
        "id": "QE154RkG0Rxs"
      },
      "execution_count": null,
      "outputs": []
    }
  ],
  "metadata": {
    "colab": {
      "provenance": [],
      "collapsed_sections": [
        "zjtmqMUsqlzj",
        "f_S46s7A6PBn"
      ]
    },
    "kernelspec": {
      "display_name": "Python 3",
      "name": "python3"
    },
    "language_info": {
      "name": "python"
    }
  },
  "nbformat": 4,
  "nbformat_minor": 0
}